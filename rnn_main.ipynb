{
  "nbformat": 4,
  "nbformat_minor": 0,
  "metadata": {
    "colab": {
      "name": "rnn_main.ipynb",
      "provenance": [],
      "collapsed_sections": [],
      "mount_file_id": "1lx392FEd9zOjt3DQV1WdOiU4yGNXODJB",
      "authorship_tag": "ABX9TyNdl01rrS9HiobY/qgwiV3n",
      "include_colab_link": true
    },
    "kernelspec": {
      "name": "python3",
      "display_name": "Python 3"
    }
  },
  "cells": [
    {
      "cell_type": "markdown",
      "metadata": {
        "id": "view-in-github",
        "colab_type": "text"
      },
      "source": [
        "<a href=\"https://colab.research.google.com/github/udeigwe/rnn_tutorial/blob/main/rnn_main.ipynb\" target=\"_parent\"><img src=\"https://colab.research.google.com/assets/colab-badge.svg\" alt=\"Open In Colab\"/></a>"
      ]
    },
    {
      "cell_type": "markdown",
      "metadata": {
        "id": "gz21RVVukrrG"
      },
      "source": [
        ""
      ]
    },
    {
      "cell_type": "markdown",
      "metadata": {
        "id": "oeKyXWEZeYz3"
      },
      "source": [
        "## **Problem: Determining Whether a Given Text String is Positive or Negative.**\n",
        "\n",
        "We’ll implement an RNN from scratch to perform a simple Sentiment Analysis task: determining whether a given text string is positive or negative.\n",
        "\n",
        "Adapted from https://victorzhou.com/blog/intro-to-rnns/\n",
        "\n"
      ]
    },
    {
      "cell_type": "markdown",
      "metadata": {
        "id": "9tBZVqM9fPFn"
      },
      "source": [
        "### The dataset consists of two Python dictionaries:"
      ]
    },
    {
      "cell_type": "code",
      "metadata": {
        "id": "6Cb5FVG1msgK"
      },
      "source": [
        "train_data = {\n",
        "  'good': True,\n",
        "  'bad': False,\n",
        "  'happy': True,\n",
        "  'sad': False,\n",
        "  'not good': False,\n",
        "  'not bad': True,\n",
        "  'not happy': False,\n",
        "  'not sad': True,\n",
        "  'very good': True,\n",
        "  'very bad': False,\n",
        "  'very happy': True,\n",
        "  'very sad': False,\n",
        "  'i am happy': True,\n",
        "  'this is good': True,\n",
        "  'i am bad': False,\n",
        "  'this is bad': False,\n",
        "  'i am sad': False,\n",
        "  'this is sad': False,\n",
        "  'i am not happy': False,\n",
        "  'this is not good': False,\n",
        "  'i am not bad': True,\n",
        "  'this is not sad': True,\n",
        "  'i am very happy': True,\n",
        "  'this is very good': True,\n",
        "  'i am very bad': False,\n",
        "  'this is very sad': False,\n",
        "  'this is very happy': True,\n",
        "  'i am good not bad': True,\n",
        "  'this is good not bad': True,\n",
        "  'i am bad not good': False,\n",
        "  'i am good and happy': True,\n",
        "  'this is not good and not happy': False,\n",
        "  'i am not at all good': False,\n",
        "  'i am not at all bad': True,\n",
        "  'i am not at all happy': False,\n",
        "  'this is not at all sad': True,\n",
        "  'this is not at all happy': False,\n",
        "  'i am good right now': True,\n",
        "  'i am bad right now': False,\n",
        "  'this is bad right now': False,\n",
        "  'i am sad right now': False,\n",
        "  'i was good earlier': True,\n",
        "  'i was happy earlier': True,\n",
        "  'i was bad earlier': False,\n",
        "  'i was sad earlier': False,\n",
        "  'i am very bad right now': False,\n",
        "  'this is very good right now': True,\n",
        "  'this is very sad right now': False,\n",
        "  'this was bad earlier': False,\n",
        "  'this was very good earlier': True,\n",
        "  'this was very bad earlier': False,\n",
        "  'this was very happy earlier': True,\n",
        "  'this was very sad earlier': False,\n",
        "  'i was good and not bad earlier': True,\n",
        "  'i was not good and not happy earlier': False,\n",
        "  'i am not at all bad or sad right now': True,\n",
        "  'i am not at all good or happy right now': False,\n",
        "  'this was not happy and not good earlier': False,\n",
        "}\n",
        "\n",
        "test_data = {\n",
        "  'this is happy': True,\n",
        "  'i am good': True,\n",
        "  'this is not happy': False,\n",
        "  'i am not good': False,\n",
        "  'this is not bad': True,\n",
        "  'i am not sad': True,\n",
        "  'i am very good': True,\n",
        "  'this is very bad': False,\n",
        "  'i am very sad': False,\n",
        "  'this is bad not good': False,\n",
        "  'this is good and happy': True,\n",
        "  'i am not good and not happy': False,\n",
        "  'i am not at all sad': True,\n",
        "  'this is not at all good': False,\n",
        "  'this is not at all bad': True,\n",
        "  'this is good right now': True,\n",
        "  'this is sad right now': False,\n",
        "  'this is very bad right now': False,\n",
        "  'this was good earlier': True,\n",
        "  'i was not happy and not good earlier': False,\n",
        "}\n"
      ],
      "execution_count": 21,
      "outputs": []
    },
    {
      "cell_type": "markdown",
      "metadata": {
        "id": "2Ey8MavvgD1G"
      },
      "source": [
        "### Create the vocabulary"
      ]
    },
    {
      "cell_type": "code",
      "metadata": {
        "id": "KOilPcyhD38i",
        "outputId": "e16703ca-e900-46c2-9db4-36f6c05dcbfc",
        "colab": {
          "base_uri": "https://localhost:8080/",
          "height": 34
        }
      },
      "source": [
        "#Create the vocabulary.\n",
        "#vocab = list(w for text in train_data.keys())\n",
        "\n",
        "vocab = list(set([w for text in train_data.keys() for w in text.split(' ')]))\n",
        "vocab_size = len(vocab)\n",
        "print('%d unique words found' %vocab_size) # 18 unique words found"
      ],
      "execution_count": 23,
      "outputs": [
        {
          "output_type": "stream",
          "text": [
            "18 unique words found\n"
          ],
          "name": "stdout"
        }
      ]
    },
    {
      "cell_type": "markdown",
      "metadata": {
        "id": "9UiaPTWtgJ-F"
      },
      "source": [
        "### Assign indices to each word."
      ]
    },
    {
      "cell_type": "code",
      "metadata": {
        "id": "lFj4jnwnENMW",
        "outputId": "07e2dfa5-723f-4981-9067-4f010c0ae983",
        "colab": {
          "base_uri": "https://localhost:8080/",
          "height": 51
        }
      },
      "source": [
        "# Assign indices to each word.\n",
        "word_to_idx = { w: i for i, w in enumerate(vocab) }\n",
        "idx_to_word = { i: w for i, w in enumerate(vocab) }\n",
        "print(word_to_idx['good']) # 16 (this may change)\n",
        "print(idx_to_word[0]) # sad (this may change)"
      ],
      "execution_count": 30,
      "outputs": [
        {
          "output_type": "stream",
          "text": [
            "5\n",
            "not\n"
          ],
          "name": "stdout"
        }
      ]
    },
    {
      "cell_type": "code",
      "metadata": {
        "id": "FIekak_JEbWW",
        "outputId": "c609cf1c-31bf-4fdd-fe4b-63f7799d0bf3",
        "colab": {
          "base_uri": "https://localhost:8080/",
          "height": 323
        }
      },
      "source": [
        "word_to_idx"
      ],
      "execution_count": 28,
      "outputs": [
        {
          "output_type": "execute_result",
          "data": {
            "text/plain": [
              "{'all': 11,\n",
              " 'am': 17,\n",
              " 'and': 9,\n",
              " 'at': 12,\n",
              " 'bad': 6,\n",
              " 'earlier': 2,\n",
              " 'good': 5,\n",
              " 'happy': 13,\n",
              " 'i': 7,\n",
              " 'is': 8,\n",
              " 'not': 0,\n",
              " 'now': 15,\n",
              " 'or': 4,\n",
              " 'right': 14,\n",
              " 'sad': 16,\n",
              " 'this': 1,\n",
              " 'very': 10,\n",
              " 'was': 3}"
            ]
          },
          "metadata": {
            "tags": []
          },
          "execution_count": 28
        }
      ]
    },
    {
      "cell_type": "markdown",
      "metadata": {
        "id": "vsUbAG62gReA"
      },
      "source": [
        "### Converting words to one-hot vector\n",
        "The “one” in each one-hot vector will be at the word’s corresponding integer index.\n",
        "\n"
      ]
    },
    {
      "cell_type": "code",
      "metadata": {
        "id": "mNGE-pF0Gdz3"
      },
      "source": [
        "# We’ll use one-hot vectors, which contain all zeros except for a single one. \n",
        "# The “one” in each one-hot vector will be at the word’s corresponding integer index.\n",
        "\n",
        "import numpy as np\n",
        "\n",
        "def createInputs(text):\n",
        "  '''\n",
        "  Returns an array of one-hot vectors representing the words\n",
        "  in the input text string.\n",
        "  - text is a string\n",
        "  - Each one-hot vector has shape (vocab_size, 1)\n",
        "  '''\n",
        "  inputs = []\n",
        "  for w in text.split(' '):\n",
        "    v = np.zeros((vocab_size, 1))\n",
        "    v[word_to_idx[w]] = 1\n",
        "    inputs.append(v)\n",
        "  return inputs"
      ],
      "execution_count": null,
      "outputs": []
    },
    {
      "cell_type": "markdown",
      "metadata": {
        "id": "1jn0IxL5jS5l"
      },
      "source": [
        "### The Forward Phase\n",
        "It’s time to start implementing our RNN! We’ll start by initializing the 3 weights and 2 biases our RNN needs:"
      ]
    },
    {
      "cell_type": "code",
      "metadata": {
        "id": "eGv-u0HIjWcJ"
      },
      "source": [
        "import numpy as np\n",
        "from numpy.random import randn\n",
        "\n",
        "class RNN:\n",
        "  # A Vanilla Recurrent Neural Network.\n",
        "\n",
        "  def __init__(self, input_size, output_size, hidden_size=64):\n",
        "    # Weights\n",
        "    self.Whh = randn(hidden_size, hidden_size) / 1000\n",
        "    self.Wxh = randn(hidden_size, input_size) / 1000\n",
        "    self.Why = randn(output_size, hidden_size) / 1000\n",
        "\n",
        "    # Biases\n",
        "    self.bh = np.zeros((hidden_size, 1))\n",
        "    self.by = np.zeros((output_size, 1))"
      ],
      "execution_count": 31,
      "outputs": []
    },
    {
      "cell_type": "code",
      "metadata": {
        "id": "dQ6PGmHxj0xB"
      },
      "source": [
        ""
      ],
      "execution_count": null,
      "outputs": []
    }
  ]
}