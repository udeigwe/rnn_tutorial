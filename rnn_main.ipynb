{
  "nbformat": 4,
  "nbformat_minor": 0,
  "metadata": {
    "colab": {
      "name": "rnn_main.ipynb",
      "provenance": [],
      "collapsed_sections": [],
      "mount_file_id": "1lx392FEd9zOjt3DQV1WdOiU4yGNXODJB",
      "authorship_tag": "ABX9TyNY3tQ3bcJfnEnau2hS5oHZ",
      "include_colab_link": true
    },
    "kernelspec": {
      "name": "python3",
      "display_name": "Python 3"
    }
  },
  "cells": [
    {
      "cell_type": "markdown",
      "metadata": {
        "id": "view-in-github",
        "colab_type": "text"
      },
      "source": [
        "<a href=\"https://colab.research.google.com/github/udeigwe/rnn_tutorial/blob/main/rnn_main.ipynb\" target=\"_parent\"><img src=\"https://colab.research.google.com/assets/colab-badge.svg\" alt=\"Open In Colab\"/></a>"
      ]
    },
    {
      "cell_type": "markdown",
      "metadata": {
        "id": "gz21RVVukrrG"
      },
      "source": [
        ""
      ]
    },
    {
      "cell_type": "markdown",
      "metadata": {
        "id": "oeKyXWEZeYz3"
      },
      "source": [
        "# **Problem: Determining Whether a Given Text String is Positive or Negative.**\n",
        "\n",
        "We’ll implement an RNN from scratch to perform a simple Sentiment Analysis task: determining whether a given text string is positive or negative.\n",
        "\n",
        "Adapted from https://victorzhou.com/blog/intro-to-rnns/\n",
        "\n"
      ]
    },
    {
      "cell_type": "markdown",
      "metadata": {
        "id": "VVUrQKFN6syI"
      },
      "source": [
        "# Data Pre-processing"
      ]
    },
    {
      "cell_type": "markdown",
      "metadata": {
        "id": "9tBZVqM9fPFn"
      },
      "source": [
        "### The dataset consists of two Python dictionaries:"
      ]
    },
    {
      "cell_type": "code",
      "metadata": {
        "id": "6Cb5FVG1msgK"
      },
      "source": [
        "train_data = {\n",
        "  'good': True,\n",
        "  'bad': False,\n",
        "  'happy': True,\n",
        "  'sad': False,\n",
        "  'not good': False,\n",
        "  'not bad': True,\n",
        "  'not happy': False,\n",
        "  'not sad': True,\n",
        "  'very good': True,\n",
        "  'very bad': False,\n",
        "  'very happy': True,\n",
        "  'very sad': False,\n",
        "  'i am happy': True,\n",
        "  'this is good': True,\n",
        "  'i am bad': False,\n",
        "  'this is bad': False,\n",
        "  'i am sad': False,\n",
        "  'this is sad': False,\n",
        "  'i am not happy': False,\n",
        "  'this is not good': False,\n",
        "  'i am not bad': True,\n",
        "  'this is not sad': True,\n",
        "  'i am very happy': True,\n",
        "  'this is very good': True,\n",
        "  'i am very bad': False,\n",
        "  'this is very sad': False,\n",
        "  'this is very happy': True,\n",
        "  'i am good not bad': True,\n",
        "  'this is good not bad': True,\n",
        "  'i am bad not good': False,\n",
        "  'i am good and happy': True,\n",
        "  'this is not good and not happy': False,\n",
        "  'i am not at all good': False,\n",
        "  'i am not at all bad': True,\n",
        "  'i am not at all happy': False,\n",
        "  'this is not at all sad': True,\n",
        "  'this is not at all happy': False,\n",
        "  'i am good right now': True,\n",
        "  'i am bad right now': False,\n",
        "  'this is bad right now': False,\n",
        "  'i am sad right now': False,\n",
        "  'i was good earlier': True,\n",
        "  'i was happy earlier': True,\n",
        "  'i was bad earlier': False,\n",
        "  'i was sad earlier': False,\n",
        "  'i am very bad right now': False,\n",
        "  'this is very good right now': True,\n",
        "  'this is very sad right now': False,\n",
        "  'this was bad earlier': False,\n",
        "  'this was very good earlier': True,\n",
        "  'this was very bad earlier': False,\n",
        "  'this was very happy earlier': True,\n",
        "  'this was very sad earlier': False,\n",
        "  'i was good and not bad earlier': True,\n",
        "  'i was not good and not happy earlier': False,\n",
        "  'i am not at all bad or sad right now': True,\n",
        "  'i am not at all good or happy right now': False,\n",
        "  'this was not happy and not good earlier': False,\n",
        "}\n",
        "\n",
        "test_data = {\n",
        "  'this is happy': True,\n",
        "  'i am good': True,\n",
        "  'this is not happy': False,\n",
        "  'i am not good': False,\n",
        "  'this is not bad': True,\n",
        "  'i am not sad': True,\n",
        "  'i am very good': True,\n",
        "  'this is very bad': False,\n",
        "  'i am very sad': False,\n",
        "  'this is bad not good': False,\n",
        "  'this is good and happy': True,\n",
        "  'i am not good and not happy': False,\n",
        "  'i am not at all sad': True,\n",
        "  'this is not at all good': False,\n",
        "  'this is not at all bad': True,\n",
        "  'this is good right now': True,\n",
        "  'this is sad right now': False,\n",
        "  'this is very bad right now': False,\n",
        "  'this was good earlier': True,\n",
        "  'i was not happy and not good earlier': False,\n",
        "}\n"
      ],
      "execution_count": 61,
      "outputs": []
    },
    {
      "cell_type": "markdown",
      "metadata": {
        "id": "2Ey8MavvgD1G"
      },
      "source": [
        "### Create the vocabulary"
      ]
    },
    {
      "cell_type": "code",
      "metadata": {
        "id": "KOilPcyhD38i",
        "outputId": "f0432039-e9c6-48f3-c747-df158318de6b",
        "colab": {
          "base_uri": "https://localhost:8080/",
          "height": 34
        }
      },
      "source": [
        "#Create the vocabulary.\n",
        "#vocab = list(w for text in train_data.keys())\n",
        "\n",
        "vocab = list(set([w for text in train_data.keys() for w in text.split(' ')]))\n",
        "vocab_size = len(vocab)\n",
        "print('%d unique words found' %vocab_size) # 18 unique words found"
      ],
      "execution_count": 62,
      "outputs": [
        {
          "output_type": "stream",
          "text": [
            "18 unique words found\n"
          ],
          "name": "stdout"
        }
      ]
    },
    {
      "cell_type": "markdown",
      "metadata": {
        "id": "9UiaPTWtgJ-F"
      },
      "source": [
        "### Assign indices to each word."
      ]
    },
    {
      "cell_type": "code",
      "metadata": {
        "id": "lFj4jnwnENMW",
        "outputId": "df8f9bf7-5ec3-4d32-ef22-a2b51e5aeb3b",
        "colab": {
          "base_uri": "https://localhost:8080/",
          "height": 51
        }
      },
      "source": [
        "# Assign indices to each word.\n",
        "word_to_idx = { w: i for i, w in enumerate(vocab) }\n",
        "idx_to_word = { i: w for i, w in enumerate(vocab) }\n",
        "print(word_to_idx['good']) # 16 (this may change)\n",
        "print(idx_to_word[0]) # sad (this may change)"
      ],
      "execution_count": 63,
      "outputs": [
        {
          "output_type": "stream",
          "text": [
            "9\n",
            "happy\n"
          ],
          "name": "stdout"
        }
      ]
    },
    {
      "cell_type": "code",
      "metadata": {
        "id": "FIekak_JEbWW",
        "outputId": "dc2af6c1-77ca-49ae-c7d4-b0b08313aeb5",
        "colab": {
          "base_uri": "https://localhost:8080/",
          "height": 323
        }
      },
      "source": [
        "word_to_idx"
      ],
      "execution_count": 64,
      "outputs": [
        {
          "output_type": "execute_result",
          "data": {
            "text/plain": [
              "{'all': 17,\n",
              " 'am': 12,\n",
              " 'and': 11,\n",
              " 'at': 14,\n",
              " 'bad': 8,\n",
              " 'earlier': 13,\n",
              " 'good': 9,\n",
              " 'happy': 0,\n",
              " 'i': 10,\n",
              " 'is': 3,\n",
              " 'not': 2,\n",
              " 'now': 5,\n",
              " 'or': 7,\n",
              " 'right': 1,\n",
              " 'sad': 16,\n",
              " 'this': 4,\n",
              " 'very': 6,\n",
              " 'was': 15}"
            ]
          },
          "metadata": {
            "tags": []
          },
          "execution_count": 64
        }
      ]
    },
    {
      "cell_type": "markdown",
      "metadata": {
        "id": "vsUbAG62gReA"
      },
      "source": [
        "### Converting words to one-hot vector\n",
        "The “one” in each one-hot vector will be at the word’s corresponding integer index.\n",
        "\n"
      ]
    },
    {
      "cell_type": "code",
      "metadata": {
        "id": "mNGE-pF0Gdz3"
      },
      "source": [
        "# We’ll use one-hot vectors, which contain all zeros except for a single one. \n",
        "# The “one” in each one-hot vector will be at the word’s corresponding integer index.\n",
        "\n",
        "import numpy as np\n",
        "\n",
        "def createInputs(text):\n",
        "  '''\n",
        "  Returns an array of one-hot vectors representing the words\n",
        "  in the input text string.\n",
        "  - text is a string\n",
        "  - Each one-hot vector has shape (vocab_size, 1)\n",
        "  '''\n",
        "  inputs = []\n",
        "  for w in text.split(' '):\n",
        "    v = np.zeros((vocab_size, 1))\n",
        "    v[word_to_idx[w]] = 1\n",
        "    inputs.append(v)\n",
        "  return inputs"
      ],
      "execution_count": 65,
      "outputs": []
    },
    {
      "cell_type": "markdown",
      "metadata": {
        "id": "1jn0IxL5jS5l"
      },
      "source": [
        "# RNN: The Forward Phase\n",
        "It’s time to start implementing our RNN! We’ll start by initializing the 3 weights and 2 biases our RNN needs:"
      ]
    },
    {
      "cell_type": "code",
      "metadata": {
        "id": "eGv-u0HIjWcJ"
      },
      "source": [
        "import numpy as np\n",
        "from numpy.random import randn\n",
        "\n",
        "class RNN:\n",
        "  # A Vanilla Recurrent Neural Network.\n",
        "\n",
        "  def __init__(self, input_size, output_size, hidden_size=64):\n",
        "    # Weights\n",
        "    self.Whh = randn(hidden_size, hidden_size) / 1000\n",
        "    self.Wxh = randn(hidden_size, input_size) / 1000\n",
        "    self.Why = randn(output_size, hidden_size) / 1000\n",
        "\n",
        "    # Biases\n",
        "    self.bh = np.zeros((hidden_size, 1))\n",
        "    self.by = np.zeros((output_size, 1))\n",
        "\n",
        "  def forward(self, inputs):\n",
        "    '''\n",
        "    Perform a forward pass of the RNN using the given inputs.\n",
        "    Returns the final output and hidden state.\n",
        "    - inputs is an array of one-hot vectors with shape (input_size, 1).\n",
        "    '''\n",
        "    h = np.zeros((self.Whh.shape[0], 1)) \n",
        "    # a column vector, the same size as number of hidden units?\n",
        "\n",
        "    self.last_inputs = inputs\n",
        "    self.last_hs = { 0: h }\n",
        "\n",
        "    # Perform each step of the RNN\n",
        "    for i, x in enumerate(inputs):\n",
        "      h = np.tanh(self.Wxh @ x + self.Whh @ h + self.bh)\n",
        "      self.last_hs[i + 1] = h\n",
        "\n",
        "    # Compute the output\n",
        "    y = self.Why @ h + self.by\n",
        "\n",
        "    return y, h\n",
        "\n",
        "  def backprop(self, d_y, learn_rate=2e-2):\n",
        "    '''\n",
        "    Perform a backward pass of the RNN.\n",
        "    - d_y (dL/dy) has shape (output_size, 1).\n",
        "    - learn_rate is a float.\n",
        "    '''\n",
        "    n = len(self.last_inputs)\n",
        "\n",
        "    # Calculate dL/dWhy and dL/dby.\n",
        "    d_Why = d_y @ self.last_hs[n].T\n",
        "    d_by = d_y\n"
      ],
      "execution_count": 66,
      "outputs": []
    },
    {
      "cell_type": "code",
      "metadata": {
        "id": "dQ6PGmHxj0xB",
        "outputId": "028b10ca-24c3-46c9-fa22-d3b068d1492e",
        "colab": {
          "base_uri": "https://localhost:8080/",
          "height": 1000
        }
      },
      "source": [
        "def softmax(xs):\n",
        "  # Applies the Softmax Function to the input array.\n",
        "  return np.exp(xs) / sum(np.exp(xs))\n",
        "\n",
        "# Initialize our RNN!\n",
        "rnn = RNN(vocab_size,2)\n",
        "\n",
        "# Try running without training\n",
        "inputs = createInputs('i am very good')\n",
        "out, h = rnn.forward(inputs)\n",
        "probs = softmax(out)\n",
        "#print(probs) # [[0.50000095], [0.49999905]]\n",
        "\n",
        "count=0\n",
        "# Loop over each training example\n",
        "for x, y in train_data.items():\n",
        "  inputs = createInputs(x) \n",
        "      #imputs is an array of vectors,\n",
        "      # each vector is a one-hot vector\n",
        "      # respresenting a word in an input sentence \n",
        "  target = int(y)\n",
        "      # target is 0 or 1 \n",
        "      # for negative or positive\n",
        "\n",
        "  # Forward\n",
        "  out, _ = rnn.forward(inputs)\n",
        "  probs = softmax(out)\n",
        "\n",
        "  # Build dL/dy\n",
        "  d_L_d_y = probs \n",
        "      # d_L_d_y is a two element vector\n",
        "      # of the probability of output being \n",
        "      # 0 or 1\n",
        "  d_L_d_y[target] -= 1\n",
        "  print(d_L_d_y[target])\n",
        "\n",
        "  #Backward\n",
        " # rnn.backprop(d_L_d_y)\n",
        " \n",
        "   \n",
        "\n"
      ],
      "execution_count": 82,
      "outputs": [
        {
          "output_type": "stream",
          "text": [
            "[-0.50000446]\n",
            "[-0.50000158]\n",
            "[-0.5000048]\n",
            "[-0.50000414]\n",
            "[-0.49999548]\n",
            "[-0.49999847]\n",
            "[-0.49999515]\n",
            "[-0.49999591]\n",
            "[-0.50000445]\n",
            "[-0.50000159]\n",
            "[-0.50000479]\n",
            "[-0.50000415]\n",
            "[-0.5000048]\n",
            "[-0.5000045]\n",
            "[-0.50000158]\n",
            "[-0.50000154]\n",
            "[-0.50000414]\n",
            "[-0.50000411]\n",
            "[-0.49999515]\n",
            "[-0.49999548]\n",
            "[-0.49999847]\n",
            "[-0.49999591]\n",
            "[-0.50000479]\n",
            "[-0.50000445]\n",
            "[-0.50000159]\n",
            "[-0.50000415]\n",
            "[-0.50000479]\n",
            "[-0.49999847]\n",
            "[-0.49999847]\n",
            "[-0.49999548]\n",
            "[-0.5000048]\n",
            "[-0.49999515]\n",
            "[-0.49999549]\n",
            "[-0.49999846]\n",
            "[-0.49999516]\n",
            "[-0.4999959]\n",
            "[-0.49999516]\n",
            "[-0.49999896]\n",
            "[-0.50000104]\n",
            "[-0.50000104]\n",
            "[-0.50000104]\n",
            "[-0.50000276]\n",
            "[-0.50000278]\n",
            "[-0.49999726]\n",
            "[-0.49999727]\n",
            "[-0.50000104]\n",
            "[-0.49999896]\n",
            "[-0.50000104]\n",
            "[-0.49999726]\n",
            "[-0.50000276]\n",
            "[-0.49999726]\n",
            "[-0.50000278]\n",
            "[-0.49999727]\n",
            "[-0.50000274]\n",
            "[-0.49999722]\n",
            "[-0.49999896]\n",
            "[-0.50000104]\n",
            "[-0.49999724]\n"
          ],
          "name": "stdout"
        }
      ]
    },
    {
      "cell_type": "code",
      "metadata": {
        "id": "JescEM3WJIZG"
      },
      "source": [
        "inputs;"
      ],
      "execution_count": 68,
      "outputs": []
    },
    {
      "cell_type": "code",
      "metadata": {
        "id": "xfn_CPgQJJLs"
      },
      "source": [
        "A={1:10, 5:20, 7:30}"
      ],
      "execution_count": 69,
      "outputs": []
    },
    {
      "cell_type": "code",
      "metadata": {
        "id": "dyDQJ452RWhh",
        "outputId": "94608463-5814-4ed1-c000-023509601087",
        "colab": {
          "base_uri": "https://localhost:8080/",
          "height": 34
        }
      },
      "source": [
        "A"
      ],
      "execution_count": 70,
      "outputs": [
        {
          "output_type": "execute_result",
          "data": {
            "text/plain": [
              "{1: 10, 5: 20, 7: 30}"
            ]
          },
          "metadata": {
            "tags": []
          },
          "execution_count": 70
        }
      ]
    },
    {
      "cell_type": "code",
      "metadata": {
        "id": "tWcrm1uPWbKO"
      },
      "source": [
        ""
      ],
      "execution_count": 70,
      "outputs": []
    },
    {
      "cell_type": "code",
      "metadata": {
        "id": "MEqH0SMCRXLY",
        "outputId": "03a25db4-874a-48ba-9dee-99972decd8d2",
        "colab": {
          "base_uri": "https://localhost:8080/",
          "height": 34
        }
      },
      "source": [
        "A[1]"
      ],
      "execution_count": 71,
      "outputs": [
        {
          "output_type": "execute_result",
          "data": {
            "text/plain": [
              "10"
            ]
          },
          "metadata": {
            "tags": []
          },
          "execution_count": 71
        }
      ]
    },
    {
      "cell_type": "code",
      "metadata": {
        "id": "3F-W9tqsRYmy",
        "outputId": "fb452b5c-a944-4e1d-ecd7-9c9d69fb7af7",
        "colab": {
          "base_uri": "https://localhost:8080/",
          "height": 34
        }
      },
      "source": [
        "int(True)"
      ],
      "execution_count": 72,
      "outputs": [
        {
          "output_type": "execute_result",
          "data": {
            "text/plain": [
              "1"
            ]
          },
          "metadata": {
            "tags": []
          },
          "execution_count": 72
        }
      ]
    },
    {
      "cell_type": "code",
      "metadata": {
        "id": "4pVoi-DLU_6F",
        "outputId": "a3a7048b-9cb6-4264-f018-58ff4e8f5371",
        "colab": {
          "base_uri": "https://localhost:8080/",
          "height": 34
        }
      },
      "source": [
        "int(False)"
      ],
      "execution_count": 73,
      "outputs": [
        {
          "output_type": "execute_result",
          "data": {
            "text/plain": [
              "0"
            ]
          },
          "metadata": {
            "tags": []
          },
          "execution_count": 73
        }
      ]
    },
    {
      "cell_type": "code",
      "metadata": {
        "id": "JONv5ic2VBvr"
      },
      "source": [
        "A[1] -= 1"
      ],
      "execution_count": 74,
      "outputs": []
    },
    {
      "cell_type": "code",
      "metadata": {
        "id": "OZCT_qRtWhHw",
        "outputId": "78543550-2b9b-4767-f6f8-b70fc9ba573f",
        "colab": {
          "base_uri": "https://localhost:8080/",
          "height": 34
        }
      },
      "source": [
        "A[1]"
      ],
      "execution_count": 75,
      "outputs": [
        {
          "output_type": "execute_result",
          "data": {
            "text/plain": [
              "9"
            ]
          },
          "metadata": {
            "tags": []
          },
          "execution_count": 75
        }
      ]
    },
    {
      "cell_type": "code",
      "metadata": {
        "id": "FqBb2-LWuRb2",
        "outputId": "b794f9a2-ef75-4cd6-bc22-a4ad68b447f1",
        "colab": {
          "base_uri": "https://localhost:8080/",
          "height": 34
        }
      },
      "source": [
        "print(len(A))"
      ],
      "execution_count": 76,
      "outputs": [
        {
          "output_type": "stream",
          "text": [
            "3\n"
          ],
          "name": "stdout"
        }
      ]
    },
    {
      "cell_type": "code",
      "metadata": {
        "id": "iOBKAqOEuU13"
      },
      "source": [
        "A = [[1,2,3], [3, 1, 0]]"
      ],
      "execution_count": 77,
      "outputs": []
    },
    {
      "cell_type": "code",
      "metadata": {
        "id": "138vEu7MvLl-"
      },
      "source": [
        "v=[[1], [1]]"
      ],
      "execution_count": 78,
      "outputs": []
    },
    {
      "cell_type": "code",
      "metadata": {
        "id": "ju9ETgRhvMsA"
      },
      "source": [
        "A.append(v)"
      ],
      "execution_count": 79,
      "outputs": []
    },
    {
      "cell_type": "code",
      "metadata": {
        "id": "3NVK61LVvwkG",
        "outputId": "5d84416b-7e3d-4105-d443-592ce287139c",
        "colab": {
          "base_uri": "https://localhost:8080/",
          "height": 34
        }
      },
      "source": [
        "print(A)"
      ],
      "execution_count": 80,
      "outputs": [
        {
          "output_type": "stream",
          "text": [
            "[[1, 2, 3], [3, 1, 0], [[1], [1]]]\n"
          ],
          "name": "stdout"
        }
      ]
    },
    {
      "cell_type": "code",
      "metadata": {
        "id": "Rhji9VWY2sbE"
      },
      "source": [
        ""
      ],
      "execution_count": 80,
      "outputs": []
    }
  ]
}